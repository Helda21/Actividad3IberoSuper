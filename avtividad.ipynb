{
 "cells": [
  {
   "cell_type": "code",
   "execution_count": 435,
   "metadata": {},
   "outputs": [],
   "source": [
    "import pandas as pd \n",
    "from sklearn.model_selection import train_test_split\n",
    "from sklearn.linear_model import LinearRegression\n",
    "from sklearn.metrics import mean_squared_error\n",
    "import json"
   ]
  },
  {
   "cell_type": "code",
   "execution_count": 436,
   "metadata": {},
   "outputs": [],
   "source": [
    "from sklearn.preprocessing import OneHotEncoder\n",
    "from sklearn.compose import ColumnTransformer\n",
    "from sklearn.pipeline import Pipeline\n",
    "from sklearn.linear_model import LinearRegression\n",
    "from sklearn.metrics import mean_squared_error\n",
    "from sklearn.model_selection import train_test_split"
   ]
  },
  {
   "cell_type": "code",
   "execution_count": 437,
   "metadata": {},
   "outputs": [],
   "source": [
    "# Cargar datos desde un archivo CSV\n",
    "df = pd.read_excel('transporte3.xlsx')"
   ]
  },
  {
   "cell_type": "code",
   "execution_count": 438,
   "metadata": {},
   "outputs": [
    {
     "name": "stdout",
     "output_type": "stream",
     "text": [
      "<class 'pandas.core.frame.DataFrame'>\n",
      "RangeIndex: 1458 entries, 0 to 1457\n",
      "Data columns (total 11 columns):\n",
      " #   Column                     Non-Null Count  Dtype         \n",
      "---  ------                     --------------  -----         \n",
      " 0   Fecha                      1458 non-null   datetime64[ns]\n",
      " 1   Ciudad                     1458 non-null   object        \n",
      " 2   Sistema                    1458 non-null   object        \n",
      " 3   Pasajeros                  1458 non-null   int64         \n",
      " 4   Pasajerosdiatipicolaboral  1458 non-null   int64         \n",
      " 5   Pasajerosdiasabado         1458 non-null   int64         \n",
      " 6   Pasajerosdiafestivo        1458 non-null   int64         \n",
      " 7   diasemana                  1458 non-null   int64         \n",
      " 8   DensidadPoblacion          1458 non-null   int64         \n",
      " 9   Congestion                 1458 non-null   object        \n",
      " 10  Congestion2                1458 non-null   int64         \n",
      "dtypes: datetime64[ns](1), int64(7), object(3)\n",
      "memory usage: 125.4+ KB\n"
     ]
    }
   ],
   "source": [
    "df.info()"
   ]
  },
  {
   "cell_type": "code",
   "execution_count": 439,
   "metadata": {},
   "outputs": [
    {
     "data": {
      "text/html": [
       "<div>\n",
       "<style scoped>\n",
       "    .dataframe tbody tr th:only-of-type {\n",
       "        vertical-align: middle;\n",
       "    }\n",
       "\n",
       "    .dataframe tbody tr th {\n",
       "        vertical-align: top;\n",
       "    }\n",
       "\n",
       "    .dataframe thead th {\n",
       "        text-align: right;\n",
       "    }\n",
       "</style>\n",
       "<table border=\"1\" class=\"dataframe\">\n",
       "  <thead>\n",
       "    <tr style=\"text-align: right;\">\n",
       "      <th></th>\n",
       "      <th>Fecha</th>\n",
       "      <th>Ciudad</th>\n",
       "      <th>Sistema</th>\n",
       "      <th>Pasajeros</th>\n",
       "      <th>Pasajerosdiatipicolaboral</th>\n",
       "      <th>Pasajerosdiasabado</th>\n",
       "      <th>Pasajerosdiafestivo</th>\n",
       "      <th>diasemana</th>\n",
       "      <th>DensidadPoblacion</th>\n",
       "      <th>Congestion</th>\n",
       "      <th>Congestion2</th>\n",
       "    </tr>\n",
       "  </thead>\n",
       "  <tbody>\n",
       "    <tr>\n",
       "      <th>0</th>\n",
       "      <td>2020-05-17</td>\n",
       "      <td>Cali</td>\n",
       "      <td>MIO</td>\n",
       "      <td>40878</td>\n",
       "      <td>436000</td>\n",
       "      <td>308387</td>\n",
       "      <td>149213</td>\n",
       "      <td>7</td>\n",
       "      <td>476878</td>\n",
       "      <td>Congestión moderada</td>\n",
       "      <td>2</td>\n",
       "    </tr>\n",
       "  </tbody>\n",
       "</table>\n",
       "</div>"
      ],
      "text/plain": [
       "       Fecha Ciudad Sistema  Pasajeros  Pasajerosdiatipicolaboral  \\\n",
       "0 2020-05-17   Cali     MIO      40878                     436000   \n",
       "\n",
       "   Pasajerosdiasabado  Pasajerosdiafestivo  diasemana  DensidadPoblacion  \\\n",
       "0              308387               149213          7             476878   \n",
       "\n",
       "            Congestion  Congestion2  \n",
       "0  Congestión moderada            2  "
      ]
     },
     "execution_count": 439,
     "metadata": {},
     "output_type": "execute_result"
    }
   ],
   "source": [
    "df.head(1)"
   ]
  },
  {
   "cell_type": "code",
   "execution_count": 440,
   "metadata": {},
   "outputs": [],
   "source": [
    "#print(df[\"Pasajeros/dia\"].dtype)"
   ]
  },
  {
   "cell_type": "code",
   "execution_count": 441,
   "metadata": {},
   "outputs": [],
   "source": [
    "#df[\"Variación Transmilenio\"].dtype"
   ]
  },
  {
   "cell_type": "code",
   "execution_count": 442,
   "metadata": {},
   "outputs": [
    {
     "name": "stdout",
     "output_type": "stream",
     "text": [
      "      Pasajerosdiatipicolaboral  Pasajerosdiasabado  Pasajerosdiafestivo  \\\n",
      "254                     3860061             2499019              1188607   \n",
      "1065                     128221              100186                52276   \n",
      "864                     1901978             1498727               780939   \n",
      "798                      144276              110000                52000   \n",
      "380                     3860061             2499019              1188607   \n",
      "\n",
      "      diasemana  DensidadPoblacion  Congestion2  Ciudad_Barranquilla  \\\n",
      "254           7            4102372            2                False   \n",
      "1065          2             180068            2                False   \n",
      "864           5            2601711            2                False   \n",
      "798           4             179683            2                 True   \n",
      "380           7            4126249            2                False   \n",
      "\n",
      "      Ciudad_Bogota  Ciudad_Bucaramanga  Ciudad_Cali  ...  Ciudad_Pereira  \\\n",
      "254            True               False        False  ...           False   \n",
      "1065          False               False        False  ...            True   \n",
      "864           False               False        False  ...           False   \n",
      "798           False               False        False  ...           False   \n",
      "380            True               False        False  ...           False   \n",
      "\n",
      "      Sistema_MEGABUS  Sistema_METROLINEA  Sistema_MIO  Sistema_SITVA  \\\n",
      "254             False               False        False          False   \n",
      "1065             True               False        False          False   \n",
      "864             False               False        False           True   \n",
      "798             False               False        False          False   \n",
      "380             False               False        False          False   \n",
      "\n",
      "      Sistema_TRANSCARIBE  Sistema_TRANSMETRO  Sistema_TRANSMILENIOS_ITP  \\\n",
      "254                 False               False                       True   \n",
      "1065                False               False                      False   \n",
      "864                 False               False                      False   \n",
      "798                 False                True                      False   \n",
      "380                 False               False                       True   \n",
      "\n",
      "      Sistema_TRONCAL  Sistema_ZONALYDUAL  \n",
      "254             False               False  \n",
      "1065            False               False  \n",
      "864             False               False  \n",
      "798             False               False  \n",
      "380             False               False  \n",
      "\n",
      "[5 rows x 22 columns]\n",
      "254     242311\n",
      "1065     51847\n",
      "864     699733\n",
      "798      35407\n",
      "380     266188\n",
      "Name: Pasajeros, dtype: int64\n"
     ]
    }
   ],
   "source": [
    "# Imprimir algunos de los valores de las características de entrenamiento\n",
    "print(X_train.head())\n",
    "\n",
    "# Imprimir algunos de los valores de la variable objetivo de entrenamiento\n",
    "print(y_train.head())"
   ]
  },
  {
   "cell_type": "code",
   "execution_count": 443,
   "metadata": {},
   "outputs": [
    {
     "name": "stdout",
     "output_type": "stream",
     "text": [
      "int64\n"
     ]
    }
   ],
   "source": [
    "print(df['Pasajeros'].dtype)"
   ]
  },
  {
   "cell_type": "code",
   "execution_count": 444,
   "metadata": {},
   "outputs": [],
   "source": [
    "from sklearn.preprocessing import OneHotEncoder\n",
    "\n",
    "# Crea una instancia del codificador OneHotEncoder\n",
    "encoder = OneHotEncoder(sparse_output=False, handle_unknown='ignore')\n",
    "\n",
    "# Ajusta y transforma la columna Ciudad\n",
    "encoded_ciudad = encoder.fit_transform(df[['Ciudad']])\n",
    "\n",
    "# Convierte la salida en un DataFrame de pandas\n",
    "encoded_ciudad_df = pd.DataFrame(encoded_ciudad, columns=encoder.get_feature_names_out(['Ciudad']))\n",
    "\n",
    "# Concatena los DataFrames originales y codificados\n",
    "df_encoded = pd.concat([df, encoded_ciudad_df], axis=1)\n",
    "\n",
    "# Elimina la columna original 'Ciudad'\n",
    "df_encoded.drop(columns=['Ciudad'], inplace=True)"
   ]
  },
  {
   "cell_type": "code",
   "execution_count": 445,
   "metadata": {},
   "outputs": [],
   "source": [
    "from sklearn.preprocessing import LabelEncoder\n",
    "\n",
    "# Crea una instancia del codificador LabelEncoder\n",
    "encoder = LabelEncoder()\n",
    "\n",
    "# Ajusta y transforma la columna Sistema\n",
    "encoded_sistema = encoder.fit_transform(df['Sistema'])\n",
    "\n",
    "# Agrega la columna codificada al DataFrame original\n",
    "df['Sistema_encoded'] = encoded_sistema"
   ]
  },
  {
   "cell_type": "code",
   "execution_count": 446,
   "metadata": {},
   "outputs": [
    {
     "name": "stdout",
     "output_type": "stream",
     "text": [
      "Error cuadrático medio: 28455814587.079216\n"
     ]
    }
   ],
   "source": [
    "# Define las columnas que son categóricas y numéricas\n",
    "categorical_cols = ['Ciudad', 'Sistema']\n",
    "numeric_cols = ['Pasajerosdiatipicolaboral', 'Pasajerosdiasabado', 'Pasajerosdiafestivo', 'diasemana']\n",
    "\n",
    "# Crea un preprocesador para aplicar codificación One-Hot a las columnas categóricas\n",
    "preprocessor = ColumnTransformer(\n",
    "    transformers=[\n",
    "        ('cat', OneHotEncoder(), categorical_cols),\n",
    "        ('num', 'passthrough', numeric_cols)\n",
    "    ])\n",
    "\n",
    "# Combina el preprocesador con un modelo de regresión lineal en un pipeline\n",
    "pipeline = Pipeline(steps=[\n",
    "    ('preprocessor', preprocessor),\n",
    "    ('regressor', LinearRegression())\n",
    "])\n",
    "\n",
    "# Dividir los datos en características (X) y la variable objetivo (y)\n",
    "X = df.drop(columns=['Pasajeros'])\n",
    "y = df['Pasajeros']\n",
    "\n",
    "# Dividir los datos en conjuntos de entrenamiento y prueba\n",
    "X_train, X_test, y_train, y_test = train_test_split(X, y, test_size=0.2, random_state=42)\n",
    "\n",
    "# Entrenar el modelo y realizar predicciones\n",
    "pipeline.fit(X_train, y_train)\n",
    "y_pred = pipeline.predict(X_test)\n",
    "\n",
    "# Evaluar el rendimiento del modelo\n",
    "mse = mean_squared_error(y_test, y_pred)\n",
    "print(\"Error cuadrático medio:\", mse)"
   ]
  },
  {
   "cell_type": "code",
   "execution_count": 447,
   "metadata": {},
   "outputs": [
    {
     "name": "stdout",
     "output_type": "stream",
     "text": [
      "Error cuadrático medio: 231944701.5239726\n"
     ]
    }
   ],
   "source": [
    "import pandas as pd\n",
    "from sklearn.model_selection import train_test_split\n",
    "from sklearn.tree import DecisionTreeRegressor\n",
    "from sklearn.metrics import mean_squared_error\n",
    "\n",
    "# Eliminar la columna \"Fecha\" si no es relevante para el modelo\n",
    "df = df.drop(columns=['Fecha'])\n",
    "\n",
    "# Dividir los datos en características (X) y la variable objetivo (y)\n",
    "X = df.drop(columns=['Pasajeros'])\n",
    "y = df['Pasajeros']\n",
    "\n",
    "# Convertir variables categóricas en variables numéricas utilizando One-Hot Encoding\n",
    "X = pd.get_dummies(X)\n",
    "\n",
    "# Dividir los datos en conjuntos de entrenamiento y prueba\n",
    "X_train, X_test, y_train, y_test = train_test_split(X, y, test_size=0.2, random_state=42)\n",
    "\n",
    "# Construir y entrenar el modelo de árbol de decisión\n",
    "model = DecisionTreeRegressor(random_state=42)\n",
    "model.fit(X_train, y_train)\n",
    "\n",
    "# Realizar predicciones en el conjunto de prueba\n",
    "y_pred = model.predict(X_test)\n",
    "\n",
    "# Evaluar el rendimiento del modelo\n",
    "mse = mean_squared_error(y_test, y_pred)\n",
    "print(\"Error cuadrático medio:\", mse)"
   ]
  },
  {
   "cell_type": "code",
   "execution_count": 448,
   "metadata": {},
   "outputs": [
    {
     "name": "stdout",
     "output_type": "stream",
     "text": [
      "Error cuadrático medio: 1.3279490009105311e-19\n"
     ]
    }
   ],
   "source": [
    "import pandas as pd \n",
    "from sklearn.model_selection import train_test_split\n",
    "from sklearn.linear_model import LinearRegression\n",
    "from sklearn.metrics import mean_squared_error\n",
    "\n",
    "# Cargar datos desde un archivo CSV\n",
    "df = pd.read_excel('transporte3.xlsx')\n",
    "\n",
    "# Seleccionar las características relevantes para el modelo\n",
    "features = ['Ciudad', 'Sistema', 'Pasajerosdiatipicolaboral', 'Pasajerosdiasabado', 'Pasajerosdiafestivo', 'diasemana', 'DensidadPoblacion', 'Congestion2']\n",
    "\n",
    "# Dividir los datos en características (X) y la variable objetivo (y)\n",
    "X = df[features]\n",
    "y = df['Pasajeros']\n",
    "\n",
    "# Convertir las variables categóricas en variables dummy utilizando one-hot encoding\n",
    "X_encoded = pd.get_dummies(X)\n",
    "\n",
    "# Dividir los datos en conjuntos de entrenamiento y prueba\n",
    "X_train, X_test, y_train, y_test = train_test_split(X_encoded, y, test_size=0.2, random_state=42)\n",
    "\n",
    "# Entrenar el modelo de regresión lineal\n",
    "model = LinearRegression()\n",
    "model.fit(X_train, y_train)\n",
    "\n",
    "# Realizar predicciones en el conjunto de prueba\n",
    "y_pred = model.predict(X_test)\n",
    "\n",
    "# Evaluar el rendimiento del modelo utilizando el error cuadrático medio\n",
    "mse = mean_squared_error(y_test, y_pred)\n",
    "print(\"Error cuadrático medio:\", mse)"
   ]
  },
  {
   "cell_type": "code",
   "execution_count": 449,
   "metadata": {},
   "outputs": [
    {
     "name": "stdout",
     "output_type": "stream",
     "text": [
      "Index(['Fecha', 'Ciudad', 'Sistema', 'Pasajeros', 'Pasajerosdiatipicolaboral',\n",
      "       'Pasajerosdiasabado', 'Pasajerosdiafestivo', 'diasemana',\n",
      "       'DensidadPoblacion', 'Congestion', 'Congestion2'],\n",
      "      dtype='object')\n"
     ]
    }
   ],
   "source": [
    "print(df.columns)"
   ]
  },
  {
   "cell_type": "code",
   "execution_count": 450,
   "metadata": {},
   "outputs": [
    {
     "name": "stdout",
     "output_type": "stream",
     "text": [
      "       Fecha Ciudad Sistema  Pasajeros  Pasajerosdiatipicolaboral  \\\n",
      "0 2020-05-17   Cali     MIO      40878                     436000   \n",
      "1 2020-03-25   Cali     MIO      65411                     436000   \n",
      "2 2020-07-24   Cali     MIO     162505                     436000   \n",
      "3 2020-05-23   Cali     MIO      97821                     436000   \n",
      "4 2020-07-15   Cali     MIO     165579                     436000   \n",
      "\n",
      "   Pasajerosdiasabado  Pasajerosdiafestivo  diasemana  DensidadPoblacion  \\\n",
      "0              308387               149213          7             476878   \n",
      "1              308387               149213          3             501411   \n",
      "2              308387               149213          5             598505   \n",
      "3              308387               149213          6             533821   \n",
      "4              308387               149213          3             601579   \n",
      "\n",
      "            Congestion  Congestion2  \n",
      "0  Congestión moderada            2  \n",
      "1  Congestión moderada            2  \n",
      "2  Congestión moderada            2  \n",
      "3  Congestión moderada            2  \n",
      "4  Congestión moderada            2  \n"
     ]
    }
   ],
   "source": [
    "print(df.head())"
   ]
  }
 ],
 "metadata": {
  "kernelspec": {
   "display_name": "Python 3",
   "language": "python",
   "name": "python3"
  },
  "language_info": {
   "codemirror_mode": {
    "name": "ipython",
    "version": 3
   },
   "file_extension": ".py",
   "mimetype": "text/x-python",
   "name": "python",
   "nbconvert_exporter": "python",
   "pygments_lexer": "ipython3",
   "version": "3.11.2"
  }
 },
 "nbformat": 4,
 "nbformat_minor": 2
}
